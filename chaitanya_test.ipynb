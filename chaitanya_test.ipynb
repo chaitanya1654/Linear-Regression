import pytest
from chaitanya import predict_weight  # Assuming you have a function to predict weight

def test_predict_weight():
    # Test the prediction function with a sample input
    assert predict_weight(12.0) == 24.0  # Replace with your actual expected result
